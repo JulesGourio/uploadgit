{
 "cells": [
  {
   "cell_type": "code",
   "execution_count": 1,
   "metadata": {},
   "outputs": [
    {
     "name": "stdout",
     "output_type": "stream",
     "text": [
      "number of parameters: 558400\n"
     ]
    }
   ],
   "source": [
    "from models.DnCNN.DnCNN import create_DnCNN\n",
    "from utils.training import train, PSNR\n",
    "\n",
    "model = create_DnCNN()\n",
    "#number of parameters\n",
    "print('number of parameters:', sum(param.numel() for param in model.parameters()))\n",
    "\n",
    "training\n",
    "\n"
   ]
  },
  {
   "cell_type": "code",
   "execution_count": null,
   "metadata": {},
   "outputs": [],
   "source": []
  }
 ],
 "metadata": {
  "kernelspec": {
   "display_name": "base",
   "language": "python",
   "name": "python3"
  },
  "language_info": {
   "codemirror_mode": {
    "name": "ipython",
    "version": 3
   },
   "file_extension": ".py",
   "mimetype": "text/x-python",
   "name": "python",
   "nbconvert_exporter": "python",
   "pygments_lexer": "ipython3",
   "version": "3.11.7"
  }
 },
 "nbformat": 4,
 "nbformat_minor": 2
}
